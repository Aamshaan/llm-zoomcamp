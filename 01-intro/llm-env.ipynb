{
 "cells": [
  {
   "cell_type": "code",
   "execution_count": 1,
   "id": "c6b70c95-7b63-48b3-8ecc-a467a6041b2c",
   "metadata": {},
   "outputs": [],
   "source": [
    "import openai"
   ]
  },
  {
   "cell_type": "code",
   "execution_count": 2,
   "id": "0e572834-2557-4dd2-b122-5afe1094153a",
   "metadata": {},
   "outputs": [],
   "source": [
    "from openai import OpenAI"
   ]
  },
  {
   "cell_type": "code",
   "execution_count": 3,
   "id": "4d3c2a54-df4b-484c-b07b-506742c180f1",
   "metadata": {},
   "outputs": [],
   "source": [
    "client = OpenAI()"
   ]
  },
  {
   "cell_type": "code",
   "execution_count": 7,
   "id": "13fb7de8-ee64-43fe-82c2-64d8e384297d",
   "metadata": {},
   "outputs": [],
   "source": [
    "import os"
   ]
  },
  {
   "cell_type": "code",
   "execution_count": 8,
   "id": "4389c12d-a89f-4244-97b6-01d510f666a5",
   "metadata": {},
   "outputs": [],
   "source": [
    "response=client.chat.completions.create(\n",
    "    model ='gpt-4o',\n",
    "    messages=[{\"role\":\"user\",\"content\":\"is it too late to join the course?\"}]\n",
    ")"
   ]
  },
  {
   "cell_type": "code",
   "execution_count": 12,
   "id": "d7cb4149-7df0-49a6-adee-54bbe45f9fc5",
   "metadata": {},
   "outputs": [
    {
     "data": {
      "text/plain": [
       "\"It's difficult to say without more specific information about the course you're referring to. Generally, whether it's too late to join a course depends on several factors:\\n\\n1. **Registration Deadlines:** Check if the course registration period is still open. Many institutions have specific windows for enrolling in courses.\\n   \\n2. **Course Progression:** If the course has already started, consider how many weeks or modules have been completed. Some courses might be harder to catch up on if you've missed significant portions.\\n\\n3. **Instructor's Permission:** Sometimes you may be able to join a course late with the instructor's approval, especially if you're willing to put in extra effort to catch up.\\n\\n4. **Type of Course:** Online courses often have more flexible enrollment options compared to traditional in-person courses.\\n\\n5. **Institutional Policies:** Different universities or educational platforms have their own policies regarding late enrollment.\\n\\nTo get a definitive answer, you should contact the course instructor, the admissions office, or the department offering the course as soon as possible. They can provide the most accurate and specific information based on the course and institution in question.\""
      ]
     },
     "execution_count": 12,
     "metadata": {},
     "output_type": "execute_result"
    }
   ],
   "source": [
    "response.choices[0].message.content"
   ]
  }
 ],
 "metadata": {
  "kernelspec": {
   "display_name": "Python 3 (ipykernel)",
   "language": "python",
   "name": "python3"
  },
  "language_info": {
   "codemirror_mode": {
    "name": "ipython",
    "version": 3
   },
   "file_extension": ".py",
   "mimetype": "text/x-python",
   "name": "python",
   "nbconvert_exporter": "python",
   "pygments_lexer": "ipython3",
   "version": "3.10.13"
  }
 },
 "nbformat": 4,
 "nbformat_minor": 5
}
